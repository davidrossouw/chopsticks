{
 "cells": [
  {
   "cell_type": "code",
   "execution_count": null,
   "metadata": {},
   "outputs": [],
   "source": [
    "import networkx as nx\n",
    "from networkx import DiGraph\n",
    "import random\n",
    "import matplotlib.pyplot as plt\n",
    "from collections import Counter\n",
    "from model import Move, Board, ALL_MOVES, draw_graph, RandomPlayer, MiniMaxPlayer"
   ]
  },
  {
   "cell_type": "code",
   "execution_count": null,
   "metadata": {},
   "outputs": [],
   "source": [
    "class Game():\n",
    "    def __init__(self, player1, player2):\n",
    "        self.player1 = player1\n",
    "        self.player2 = player2\n",
    "        self._active_player = player1\n",
    "        self._inactive_player = player2\n",
    "        self._turns = 1\n",
    "        self.player1.idx = 1 # test that these can be switched without affecting game score\n",
    "        self.player2.idx = 0\n",
    "        \n",
    "    @property\n",
    "    def active_player(self):\n",
    "        return self._active_player\n",
    "    \n",
    "    @property\n",
    "    def inactive_player(self):\n",
    "        return self._inactive_player\n",
    "    \n",
    "    @property\n",
    "    def turns(self):\n",
    "        return self._turns\n",
    "    \n",
    "    def end_of_turn(self):\n",
    "        '''Switch players and increment turn count'''\n",
    "        self._active_player, self._inactive_player = self._inactive_player, self._active_player\n",
    "        self._turns += 1"
   ]
  },
  {
   "cell_type": "code",
   "execution_count": null,
   "metadata": {},
   "outputs": [],
   "source": [
    "results = []\n",
    "\n",
    "for n_games in range(50):\n",
    "\n",
    "    # Set up new game\n",
    "    board = Board((1,1), (1,1))\n",
    "    player1 = RandomPlayer(name='random')\n",
    "    player2 = MiniMaxPlayer(name='minimax', max_depth=30) # minimax idx=0\n",
    "    game = Game(player1, player2) \n",
    "\n",
    "    while not board.is_winner:\n",
    "        move = game.active_player.select_move(board)\n",
    "        board = board.update_board(move)\n",
    "\n",
    "        if board.is_winner:\n",
    "            print('Winner:', game.active_player.name)\n",
    "            results.append(game.active_player.name)\n",
    "            break\n",
    "        \n",
    "        # End of turn, swithc players etc.\n",
    "        game.end_of_turn()\n",
    "        if game.turns > 30:\n",
    "            break\n",
    "    \n",
    "    "
   ]
  },
  {
   "cell_type": "code",
   "execution_count": null,
   "metadata": {},
   "outputs": [],
   "source": [
    "Counter(results)"
   ]
  }
 ],
 "metadata": {
  "kernelspec": {
   "display_name": "chopsticks",
   "language": "python",
   "name": "chopsticks"
  },
  "language_info": {
   "codemirror_mode": {
    "name": "ipython",
    "version": 3
   },
   "file_extension": ".py",
   "mimetype": "text/x-python",
   "name": "python",
   "nbconvert_exporter": "python",
   "pygments_lexer": "ipython3",
   "version": "3.6.5"
  }
 },
 "nbformat": 4,
 "nbformat_minor": 4
}
