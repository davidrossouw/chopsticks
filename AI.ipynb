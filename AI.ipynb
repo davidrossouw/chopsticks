{
 "cells": [
  {
   "cell_type": "code",
   "execution_count": 1,
   "metadata": {},
   "outputs": [],
   "source": [
    "from model import Hand, Player, Game, RandomPlayer, MinMaxPlayer"
   ]
  },
  {
   "cell_type": "code",
   "execution_count": 2,
   "metadata": {},
   "outputs": [
    {
     "name": "stdout",
     "output_type": "stream",
     "text": [
      "Winner: player2\n",
      "CPU times: user 154 ms, sys: 18.4 ms, total: 173 ms\n",
      "Wall time: 157 ms\n"
     ]
    },
    {
     "data": {
      "image/png": "[encoded data removed]",
      "text/plain": [
       "<Figure size 360x360 with 1 Axes>"
      ]
     },
     "metadata": {},
     "output_type": "display_data"
    }
   ],
   "source": [
    "%%time\n",
    "results = []\n",
    "for game_number in range(1):\n",
    "    game = Game(RandomPlayer('player1'), MinMaxPlayer('player2')) # MinMaxPlayer('player2')\n",
    "    while not game.winner:\n",
    "        move = game.active.move(game)\n",
    "        game.do_move(move)\n",
    "        \n",
    "    game.draw()\n",
    "    print(\"Winner:\", game.winner)\n",
    "    results.append({'winner': game.winner, 'moves':game.moves})"
   ]
  },
  {
   "cell_type": "code",
   "execution_count": null,
   "metadata": {},
   "outputs": [],
   "source": []
  }
 ],
 "metadata": {
  "kernelspec": {
   "display_name": "chopsticks",
   "language": "python",
   "name": "chopsticks"
  },
  "language_info": {
   "codemirror_mode": {
    "name": "ipython",
    "version": 3
   },
   "file_extension": ".py",
   "mimetype": "text/x-python",
   "name": "python",
   "nbconvert_exporter": "python",
   "pygments_lexer": "ipython3",
   "version": "3.6.5"
  }
 },
 "nbformat": 4,
 "nbformat_minor": 4
}
